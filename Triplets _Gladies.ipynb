{
 "cells": [
  {
   "cell_type": "code",
   "execution_count": 46,
   "metadata": {},
   "outputs": [
    {
     "name": "stdout",
     "output_type": "stream",
     "text": [
      "(1, 3, 5)\n",
      "(3, 5, 7)\n",
      "Total triplets: 2\n"
     ]
    }
   ],
   "source": [
    "def myTriplets(A):\n",
    " \n",
    "    if len(A) < 3:\n",
    "        return\n",
    " \n",
    "    # initialize count number\n",
    "    count = 0 \n",
    "    for j in range(1, len(A) - 1):\n",
    " \n",
    "        # start with left and right index of j\n",
    "        i = j - 1\n",
    "        k = j + 1\n",
    " \n",
    "        # Find all i and k such that (i, j, k)  \n",
    "        while i >= 0 and k < len(A):\n",
    "\n",
    "            # if (A[i], A[j], A[k]) forms a triplet\n",
    "            if (A[i] + A[k] == 2 * A[j]) & (A[k] - A[i] == 4):\n",
    " \n",
    "                # print the triplet\n",
    "                print((A[i], A[j], A[k]))\n",
    "                count = count + 1 \n",
    "                # Since the list is sorted and elements are distinct\n",
    "                k = k + 1\n",
    "                i = i - 1\n",
    " \n",
    "            # else if (A[i] + A[k]) is less than 2*A[j] then\n",
    "            # try next k. Else, try previous i.\n",
    "            elif A[i] + A[k] < 2 * A[j]:\n",
    "                k = k + 1\n",
    "            else:\n",
    "                i = i - 1 \n",
    "                \n",
    "    print(\"Total triplets: \" + str(count))    \n",
    " \n",
    "if __name__ == '__main__':\n",
    " \n",
    "    A = [1, 3, 5, 6, 7]\n",
    "    myTriplets(A)\n",
    " "
   ]
  },
  {
   "cell_type": "code",
   "execution_count": 47,
   "metadata": {},
   "outputs": [
    {
     "name": "stdout",
     "output_type": "stream",
     "text": [
      "Total triplets: 0\n"
     ]
    }
   ],
   "source": [
    "def myTriplets(A):\n",
    " \n",
    "    if len(A) < 3:\n",
    "        return\n",
    " \n",
    "    # consider A[j] as middle element of AP\n",
    "    count = 0 \n",
    "    for j in range(1, len(A) - 1):\n",
    " \n",
    "        # start with left and right index of j\n",
    "        i = j - 1\n",
    "        k = j + 1\n",
    " \n",
    "        # Find all i and k such that (i, j, k) forms a triplet of AP\n",
    "        while i >= 0 and k < len(A):\n",
    "\n",
    "            # if (A[i], A[j], A[k]) forms a triplet\n",
    "            if (A[i] + A[k] == 2 * A[j]) & (A[k] - A[i] == 4):\n",
    " \n",
    "                # print the triplet\n",
    "                print((A[i], A[j], A[k]))\n",
    "                count = count + 1 \n",
    "                # Since the list is sorted and elements are distinct\n",
    "                k = k + 1\n",
    "                i = i - 1\n",
    " \n",
    "            # else if (A[i] + A[k]) is less than 2*A[j] then\n",
    "            # try next k. Else, try previous i.\n",
    "            elif A[i] + A[k] < 2 * A[j]:\n",
    "                k = k + 1\n",
    "            else:\n",
    "                i = i - 1 \n",
    "                \n",
    "    print(\"Total triplets: \" + str(count))    \n",
    " \n",
    "if __name__ == '__main__':\n",
    " \n",
    "    A = [2, 4, 5, 8]\n",
    "    myTriplets(A)\n",
    " "
   ]
  }
 ],
 "metadata": {
  "kernelspec": {
   "display_name": "Python 3",
   "language": "python",
   "name": "python3"
  },
  "language_info": {
   "codemirror_mode": {
    "name": "ipython",
    "version": 3
   },
   "file_extension": ".py",
   "mimetype": "text/x-python",
   "name": "python",
   "nbconvert_exporter": "python",
   "pygments_lexer": "ipython3",
   "version": "3.8.5"
  }
 },
 "nbformat": 4,
 "nbformat_minor": 4
}
